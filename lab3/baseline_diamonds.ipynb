{
 "cells": [
  {
   "cell_type": "code",
   "id": "7209a469",
   "metadata": {
    "ExecuteTime": {
     "end_time": "2025-10-22T18:54:10.057Z",
     "start_time": "2025-10-22T18:54:10.054497Z"
    }
   },
   "source": [
    "import pandas as pd\n",
    "import numpy as np\n",
    "from sklearn.model_selection import train_test_split, cross_val_score, GridSearchCV\n",
    "from sklearn.preprocessing import StandardScaler, LabelEncoder\n",
    "from sklearn.ensemble import RandomForestRegressor, GradientBoostingRegressor\n",
    "from sklearn.linear_model import LinearRegression\n",
    "from sklearn.metrics import r2_score, mean_squared_error\n",
    "import warnings\n",
    "import joblib\n",
    "warnings.filterwarnings('ignore')"
   ],
   "outputs": [],
   "execution_count": 86
  },
  {
   "cell_type": "code",
   "id": "24c42549",
   "metadata": {
    "ExecuteTime": {
     "end_time": "2025-10-22T18:54:10.086781Z",
     "start_time": "2025-10-22T18:54:10.063989Z"
    }
   },
   "source": [
    "df = pd.read_csv('diamonds_train.csv')"
   ],
   "outputs": [],
   "execution_count": 87
  },
  {
   "cell_type": "code",
   "id": "b1eb6191",
   "metadata": {
    "ExecuteTime": {
     "end_time": "2025-10-22T18:54:10.100680Z",
     "start_time": "2025-10-22T18:54:10.092306Z"
    }
   },
   "source": [
    "df.info()"
   ],
   "outputs": [
    {
     "name": "stdout",
     "output_type": "stream",
     "text": [
      "<class 'pandas.core.frame.DataFrame'>\n",
      "RangeIndex: 43018 entries, 0 to 43017\n",
      "Data columns (total 10 columns):\n",
      " #   Column   Non-Null Count  Dtype  \n",
      "---  ------   --------------  -----  \n",
      " 0   carat    43018 non-null  float64\n",
      " 1   cut      43018 non-null  object \n",
      " 2   color    43018 non-null  object \n",
      " 3   clarity  43018 non-null  object \n",
      " 4   depth    43018 non-null  float64\n",
      " 5   table    43018 non-null  float64\n",
      " 6   price    43018 non-null  int64  \n",
      " 7   x        43018 non-null  float64\n",
      " 8   y        43018 non-null  float64\n",
      " 9   z        43018 non-null  float64\n",
      "dtypes: float64(6), int64(1), object(3)\n",
      "memory usage: 3.3+ MB\n"
     ]
    }
   ],
   "execution_count": 88
  },
  {
   "metadata": {
    "ExecuteTime": {
     "end_time": "2025-10-22T18:54:10.110744Z",
     "start_time": "2025-10-22T18:54:10.105317Z"
    }
   },
   "cell_type": "code",
   "source": "print(df.head())",
   "id": "5127080591936344",
   "outputs": [
    {
     "name": "stdout",
     "output_type": "stream",
     "text": [
      "   carat        cut color clarity  depth  table  price     x     y     z\n",
      "0   0.51       Good     D     SI2   63.9   55.0   1180  5.04  5.10  3.24\n",
      "1   0.72      Ideal     E     VS2   60.8   57.0   3091  5.79  5.82  3.53\n",
      "2   0.70  Very Good     D    VVS2   62.8   60.0   4022  5.65  5.69  3.56\n",
      "3   0.36      Ideal     D     SI1   61.2   57.0    663  4.59  4.63  2.82\n",
      "4   0.54  Very Good     D     SI1   60.0   59.8   1593  5.30  5.34  3.18\n"
     ]
    }
   ],
   "execution_count": 89
  },
  {
   "cell_type": "markdown",
   "id": "94aa927d",
   "metadata": {},
   "source": [
    "# Предварительная обработка данных"
   ]
  },
  {
   "cell_type": "code",
   "id": "c0b756b3",
   "metadata": {
    "ExecuteTime": {
     "end_time": "2025-10-22T18:54:10.126815Z",
     "start_time": "2025-10-22T18:54:10.116587Z"
    }
   },
   "source": [
    "missing = df.isnull().sum()\n",
    "print(\"Пропущенные значения:\")\n",
    "print(missing[missing > 0] if missing.sum() > 0 else \"Пропущенных значений нет\")\n",
    "\n",
    "# Проверяем категориальные переменные\n",
    "categorical_cols = ['cut', 'color', 'clarity']\n",
    "for col in categorical_cols:\n",
    "    if col in df.columns:\n",
    "        print(f\"{col}: {sorted(df[col].unique())}\")\n"
   ],
   "outputs": [
    {
     "name": "stdout",
     "output_type": "stream",
     "text": [
      "Пропущенные значения:\n",
      "Пропущенных значений нет\n",
      "cut: ['Fair', 'Good', 'Ideal', 'Premium', 'Very Good']\n",
      "color: ['D', 'E', 'F', 'G', 'H', 'I', 'J']\n",
      "clarity: ['I1', 'IF', 'SI1', 'SI2', 'VS1', 'VS2', 'VVS1', 'VVS2']\n"
     ]
    }
   ],
   "execution_count": 90
  },
  {
   "metadata": {},
   "cell_type": "markdown",
   "source": "## Кодирование признаков",
   "id": "11994a6caf976653"
  },
  {
   "metadata": {
    "ExecuteTime": {
     "end_time": "2025-10-22T18:54:10.137764Z",
     "start_time": "2025-10-22T18:54:10.129811Z"
    }
   },
   "cell_type": "code",
   "source": [
    "# Определяем порядок качества для каждой категории\n",
    "cut_order = ['Fair', 'Good', 'Very Good', 'Premium', 'Ideal']\n",
    "color_order = ['J', 'I', 'H', 'G', 'F', 'E', 'D']\n",
    "clarity_order = ['I1', 'SI2', 'SI1', 'VS2', 'VS1', 'VVS2', 'VVS1', 'IF']\n",
    "\n",
    "cut_mapping = {cut: i for i, cut in enumerate(cut_order)}\n",
    "color_mapping = {color: i for i, color in enumerate(color_order)}\n",
    "clarity_mapping = {clarity: i for i, clarity in enumerate(clarity_order)}\n",
    "\n",
    "# Применяем кодирование\n",
    "df['cut_encoded'] = df['cut'].map(cut_mapping)\n",
    "df['color_encoded'] = df['color'].map(color_mapping)\n",
    "df['clarity_encoded'] = df['clarity'].map(clarity_mapping)\n"
   ],
   "id": "8181f554766da535",
   "outputs": [],
   "execution_count": 91
  },
  {
   "cell_type": "markdown",
   "id": "9df4e425",
   "metadata": {},
   "source": "## Новые признаки"
  },
  {
   "cell_type": "code",
   "id": "5782d79c",
   "metadata": {
    "ExecuteTime": {
     "end_time": "2025-10-22T18:54:10.146297Z",
     "start_time": "2025-10-22T18:54:10.141232Z"
    }
   },
   "source": [
    "df['volume'] = df['x'] * df['y'] * df['z']\n",
    "df['density'] = df['carat'] / (df['volume'] + 1e-8)\n",
    "df['table_ratio'] = df['table'] / df['depth']\n",
    "df['size_ratio'] = df['x'] / df['y']\n",
    "df['avg_dimension'] = (df['x'] + df['y'] + df['z']) / 3\n",
    "df['surface_area'] = 2 * (df['x']*df['y'] + df['x']*df['z'] + df['y']*df['z'])\n"
   ],
   "outputs": [],
   "execution_count": 92
  },
  {
   "metadata": {},
   "cell_type": "markdown",
   "source": "## Обработка выбросов",
   "id": "5e481cba63f46086"
  },
  {
   "metadata": {
    "ExecuteTime": {
     "end_time": "2025-10-22T18:54:10.163175Z",
     "start_time": "2025-10-22T18:54:10.151402Z"
    }
   },
   "cell_type": "code",
   "source": [
    "# Удаляем записи с нулевыми или отрицательными размерами\n",
    "initial_size = df.shape[0]\n",
    "df = df[(df['x'] > 0) & (df['y'] > 0) & (df['z'] > 0)]\n",
    "\n",
    "# Очень большие или очень маленькие камни\n",
    "Q1 = df['volume'].quantile(0.01)\n",
    "Q3 = df['volume'].quantile(0.99)\n",
    "df = df[(df['volume'] >= Q1) & (df['volume'] <= Q3)]\n",
    "\n",
    "final_size = df.shape[0]\n",
    "print(f\"Удалено записей: {initial_size - final_size}\")\n",
    "print(f\"Размер данных после обработки выбросов: {df.shape}\")"
   ],
   "id": "3f7a56131fb11c80",
   "outputs": [
    {
     "name": "stdout",
     "output_type": "stream",
     "text": [
      "Удалено записей: 862\n",
      "Размер данных после обработки выбросов: (42156, 19)\n"
     ]
    }
   ],
   "execution_count": 93
  },
  {
   "metadata": {},
   "cell_type": "markdown",
   "source": "## Подготовка признаков",
   "id": "2d17d69c3a63b34b"
  },
  {
   "metadata": {
    "ExecuteTime": {
     "end_time": "2025-10-22T18:54:10.174426Z",
     "start_time": "2025-10-22T18:54:10.168236Z"
    }
   },
   "cell_type": "code",
   "source": [
    "# Определяем признаки для обучения\n",
    "feature_columns = [\n",
    "    'carat', 'depth', 'table', 'x', 'y', 'z',\n",
    "    'cut_encoded', 'color_encoded', 'clarity_encoded',\n",
    "    'volume', 'density', 'table_ratio', 'size_ratio', 'avg_dimension', 'surface_area'\n",
    "]\n",
    "\n",
    "# Удаляем признаки, которые могут содержать NaN после преобразований\n",
    "feature_columns = [col for col in feature_columns if col in df.columns]\n",
    "\n",
    "print(f\"Признаки для обучения ({len(feature_columns)}): {feature_columns}\")\n",
    "\n",
    "# Подготавливаем X и y\n",
    "X = df[feature_columns]\n",
    "y = df['price']\n",
    "\n",
    "print(f\"Размеры: X {X.shape}, y {y.shape}\")\n",
    "print(f\"Статистика цены - среднее: ${y.mean():,.2f}, медиана: ${y.median():,.2f}\")"
   ],
   "id": "fd685b16bd6be385",
   "outputs": [
    {
     "name": "stdout",
     "output_type": "stream",
     "text": [
      "Признаки для обучения (15): ['carat', 'depth', 'table', 'x', 'y', 'z', 'cut_encoded', 'color_encoded', 'clarity_encoded', 'volume', 'density', 'table_ratio', 'size_ratio', 'avg_dimension', 'surface_area']\n",
      "Размеры: X (42156, 15), y (42156,)\n",
      "Статистика цены - среднее: $3,847.17, медиана: $2,401.00\n"
     ]
    }
   ],
   "execution_count": 94
  },
  {
   "cell_type": "markdown",
   "id": "221999a4",
   "metadata": {},
   "source": "## Разделение на train/test\n"
  },
  {
   "cell_type": "code",
   "id": "25290f6f",
   "metadata": {
    "ExecuteTime": {
     "end_time": "2025-10-22T18:54:10.188295Z",
     "start_time": "2025-10-22T18:54:10.180036Z"
    }
   },
   "source": [
    "X_train, X_test, y_train, y_test = train_test_split(\n",
    "    X, y, \n",
    "    test_size=0.2, \n",
    "    random_state=42, \n",
    "    shuffle=True\n",
    ")\n",
    "\n",
    "print(f\"Train: {X_train.shape[0]:,} образцов ({X_train.shape[0]/len(X)*100:.1f}%)\")\n",
    "print(f\"Test: {X_test.shape[0]:,} образцов ({X_test.shape[0]/len(X)*100:.1f}%)\")"
   ],
   "outputs": [
    {
     "name": "stdout",
     "output_type": "stream",
     "text": [
      "Train: 33,724 образцов (80.0%)\n",
      "Test: 8,432 образцов (20.0%)\n"
     ]
    }
   ],
   "execution_count": 95
  },
  {
   "cell_type": "markdown",
   "id": "d11f21a0",
   "metadata": {},
   "source": "## Масштабирование"
  },
  {
   "cell_type": "code",
   "id": "2bf2dbaf",
   "metadata": {
    "ExecuteTime": {
     "end_time": "2025-10-22T18:54:10.203196Z",
     "start_time": "2025-10-22T18:54:10.191625Z"
    }
   },
   "source": [
    "scaler = StandardScaler()\n",
    "X_train_scaled = scaler.fit_transform(X_train)\n",
    "X_test_scaled = scaler.transform(X_test)\n"
   ],
   "outputs": [],
   "execution_count": 96
  },
  {
   "cell_type": "markdown",
   "id": "b2a526db",
   "metadata": {},
   "source": "## Тест моделей"
  },
  {
   "cell_type": "code",
   "id": "831a4048",
   "metadata": {
    "ExecuteTime": {
     "end_time": "2025-10-22T18:54:55.679154Z",
     "start_time": "2025-10-22T18:54:10.210254Z"
    }
   },
   "source": [
    "models = {\n",
    "    'Linear Regression': LinearRegression(),\n",
    "    'Random Forest': RandomForestRegressor(n_estimators=100, random_state=42, n_jobs=-1),\n",
    "    'Gradient Boosting': GradientBoostingRegressor(n_estimators=100, random_state=42)\n",
    "}\n",
    "\n",
    "results = {}\n",
    "\n",
    "for name, model in models.items():\n",
    "    print(f\"\\n--- Обучение {name} ---\")\n",
    "    model.fit(X_train_scaled, y_train)\n",
    "\n",
    "    # Предсказания\n",
    "    y_train_pred = model.predict(X_train_scaled)\n",
    "    y_test_pred = model.predict(X_test_scaled)\n",
    "\n",
    "    # Метрики\n",
    "    train_r2 = r2_score(y_train, y_train_pred)\n",
    "    test_r2 = r2_score(y_test, y_test_pred)\n",
    "    train_rmse = np.sqrt(mean_squared_error(y_train, y_train_pred))\n",
    "    test_rmse = np.sqrt(mean_squared_error(y_test, y_test_pred))\n",
    "\n",
    "    # Кросс-валидация\n",
    "    cv_scores = cross_val_score(model, X_train_scaled, y_train, cv=5, scoring='r2')\n",
    "\n",
    "    results[name] = {\n",
    "        'model': model,\n",
    "        'train_r2': train_r2,\n",
    "        'test_r2': test_r2,\n",
    "        'train_rmse': train_rmse,\n",
    "        'test_rmse': test_rmse,\n",
    "        'cv_mean': cv_scores.mean(),\n",
    "        'cv_std': cv_scores.std()\n",
    "    }\n",
    "\n",
    "    print(f\"R² - Train: {train_r2:.4f}, Test: {test_r2:.4f}\")\n",
    "    print(f\"RMSE - Train: ${train_rmse:,.2f}, Test: ${test_rmse:,.2f}\")\n",
    "    print(f\"Кросс-валидация R²: {cv_scores.mean():.4f} (+/- {cv_scores.std() * 2:.4f})\")\n",
    "    print(f\"Переобучение: {train_r2 - test_r2:.4f}\")"
   ],
   "outputs": [
    {
     "name": "stdout",
     "output_type": "stream",
     "text": [
      "\n",
      "--- Обучение Linear Regression ---\n",
      "R² - Train: 0.9192, Test: 0.9185\n",
      "RMSE - Train: $1,087.13, Test: $1,096.07\n",
      "Кросс-валидация R²: 0.9187 (+/- 0.0052)\n",
      "Переобучение: 0.0008\n",
      "\n",
      "--- Обучение Random Forest ---\n",
      "R² - Train: 0.9974, Test: 0.9825\n",
      "RMSE - Train: $194.65, Test: $508.25\n",
      "Кросс-валидация R²: 0.9809 (+/- 0.0015)\n",
      "Переобучение: 0.0149\n",
      "\n",
      "--- Обучение Gradient Boosting ---\n",
      "R² - Train: 0.9786, Test: 0.9782\n",
      "RMSE - Train: $559.24, Test: $566.63\n",
      "Кросс-валидация R²: 0.9764 (+/- 0.0021)\n",
      "Переобучение: 0.0004\n"
     ]
    }
   ],
   "execution_count": 97
  },
  {
   "cell_type": "markdown",
   "id": "8a48d08f",
   "metadata": {},
   "source": "## Сравнение моделей"
  },
  {
   "cell_type": "code",
   "id": "95a6469f",
   "metadata": {
    "ExecuteTime": {
     "end_time": "2025-10-22T18:54:55.690364Z",
     "start_time": "2025-10-22T18:54:55.685476Z"
    }
   },
   "source": [
    "comparison_df = pd.DataFrame({\n",
    "    'Model': list(results.keys()),\n",
    "    'Test_R2': [results[name]['test_r2'] for name in results.keys()],\n",
    "    'Test_RMSE': [results[name]['test_rmse'] for name in results.keys()],\n",
    "    'CV_Mean': [results[name]['cv_mean'] for name in results.keys()],\n",
    "    'Overfitting': [results[name]['train_r2'] - results[name]['test_r2'] for name in results.keys()]\n",
    "}).sort_values('Test_R2', ascending=False)\n",
    "\n",
    "print(comparison_df)\n",
    "\n",
    "# Выбираем лучшую модель\n",
    "best_model_name = comparison_df.iloc[0]['Model']\n",
    "best_model = results[best_model_name]['model']\n",
    "print(f\"\\nЛучшая: {best_model_name}\")\n"
   ],
   "outputs": [
    {
     "name": "stdout",
     "output_type": "stream",
     "text": [
      "               Model   Test_R2    Test_RMSE   CV_Mean  Overfitting\n",
      "1      Random Forest  0.982470   508.251386  0.980860     0.014941\n",
      "2  Gradient Boosting  0.978211   566.630178  0.976370     0.000416\n",
      "0  Linear Regression  0.918473  1096.068404  0.918711     0.000764\n",
      "\n",
      "Лучшая: Random Forest\n"
     ]
    }
   ],
   "execution_count": 98
  },
  {
   "cell_type": "markdown",
   "id": "5686d63c",
   "metadata": {},
   "source": "## Настройка гиперпараметров\n"
  },
  {
   "cell_type": "code",
   "id": "eac61acf",
   "metadata": {
    "ExecuteTime": {
     "end_time": "2025-10-22T18:57:24.151701Z",
     "start_time": "2025-10-22T18:54:55.703279Z"
    }
   },
   "source": [
    "if best_model_name == 'Random Forest':\n",
    "    param_grid = {\n",
    "        'n_estimators': [100, 200],\n",
    "        'max_depth': [10, 20, None],\n",
    "        'min_samples_split': [2, 5],\n",
    "        'min_samples_leaf': [1, 2]\n",
    "    }\n",
    "elif best_model_name == 'Gradient Boosting':\n",
    "    param_grid = {\n",
    "        'n_estimators': [100, 200],\n",
    "        'learning_rate': [0.05, 0.1],\n",
    "        'max_depth': [3, 4, 5]\n",
    "    }\n",
    "else:\n",
    "    param_grid = {}\n",
    "\n",
    "if param_grid:\n",
    "    grid_search = GridSearchCV(\n",
    "        best_model, param_grid, cv=3, scoring='r2',\n",
    "        n_jobs=-1, verbose=1\n",
    "    )\n",
    "    grid_search.fit(X_train_scaled, y_train)\n",
    "    best_model = grid_search.best_estimator_\n",
    "    print(f\"Лучшие параметры: {grid_search.best_params_}\")\n",
    "    print(f\"Лучший score: {grid_search.best_score_:.4f}\")\n",
    "else:\n",
    "    print(\"настройка не требуется\")"
   ],
   "outputs": [
    {
     "name": "stdout",
     "output_type": "stream",
     "text": [
      "Fitting 3 folds for each of 24 candidates, totalling 72 fits\n",
      "Лучшие параметры: {'max_depth': 20, 'min_samples_leaf': 2, 'min_samples_split': 5, 'n_estimators': 200}\n",
      "Лучший score: 0.9812\n"
     ]
    }
   ],
   "execution_count": 99
  },
  {
   "cell_type": "markdown",
   "id": "aa698998",
   "metadata": {},
   "source": "## Финальная оценка\n"
  },
  {
   "cell_type": "code",
   "id": "3f3f20f9",
   "metadata": {
    "ExecuteTime": {
     "end_time": "2025-10-22T18:57:24.362469Z",
     "start_time": "2025-10-22T18:57:24.208943Z"
    }
   },
   "source": [
    "y_train_pred = best_model.predict(X_train_scaled)\n",
    "y_test_pred = best_model.predict(X_test_scaled)\n",
    "\n",
    "final_train_r2 = r2_score(y_train, y_train_pred)\n",
    "final_test_r2 = r2_score(y_test, y_test_pred)\n",
    "final_train_rmse = np.sqrt(mean_squared_error(y_train, y_train_pred))\n",
    "final_test_rmse = np.sqrt(mean_squared_error(y_test, y_test_pred))\n",
    "\n",
    "print(f\"ФИНАЛЬНЫЕ МЕТРИКИ:\")\n",
    "print(f\"R² - Train: {final_train_r2:.4f}, Test: {final_test_r2:.4f}\")\n",
    "print(f\"RMSE - Train: ${final_train_rmse:,.2f}, Test: ${final_test_rmse:,.2f}\")\n",
    "print(f\"Переобучение: {final_train_r2 - final_test_r2:.4f}\")"
   ],
   "outputs": [
    {
     "name": "stdout",
     "output_type": "stream",
     "text": [
      "ФИНАЛЬНЫЕ МЕТРИКИ:\n",
      "R² - Train: 0.9956, Test: 0.9825\n",
      "RMSE - Train: $253.07, Test: $508.19\n",
      "Переобучение: 0.0131\n"
     ]
    }
   ],
   "execution_count": 100
  },
  {
   "metadata": {},
   "cell_type": "markdown",
   "source": "## Модель на всех данных",
   "id": "1f46850463ae7c33"
  },
  {
   "metadata": {
    "ExecuteTime": {
     "end_time": "2025-10-22T18:57:30.503647Z",
     "start_time": "2025-10-22T18:57:24.375110Z"
    }
   },
   "cell_type": "code",
   "source": [
    "# Масштабируем все данные\n",
    "X_scaled = scaler.fit_transform(X)\n",
    "\n",
    "# Обучаем финальную модель на всех данных\n",
    "final_model = best_model\n",
    "final_model.fit(X_scaled, y)\n",
    "\n",
    "# Оценка на всех данных\n",
    "predictions = final_model.predict(X_scaled)\n",
    "final_r2 = r2_score(y, predictions)\n",
    "final_rmse = np.sqrt(mean_squared_error(y, predictions))\n",
    "\n",
    "print(f\"R² на всех данных: {final_r2:.4f}\")\n",
    "print(f\"RMSE на всех данных: ${final_rmse:,.2f}\")"
   ],
   "id": "60a5a84fd47d9575",
   "outputs": [
    {
     "name": "stdout",
     "output_type": "stream",
     "text": [
      "R² на всех данных: 0.9957\n",
      "RMSE на всех данных: $252.17\n"
     ]
    }
   ],
   "execution_count": 101
  },
  {
   "metadata": {},
   "cell_type": "markdown",
   "source": "### Сохранение модели",
   "id": "ed8a7a5df6404d5d"
  },
  {
   "metadata": {
    "ExecuteTime": {
     "end_time": "2025-10-22T18:57:30.680206Z",
     "start_time": "2025-10-22T18:57:30.516378Z"
    }
   },
   "cell_type": "code",
   "source": [
    "joblib.dump(final_model, 'final_model.pkl')\n",
    "joblib.dump(scaler, 'scaler.pkl')\n",
    "joblib.dump({\n",
    "    'cut_mapping': cut_mapping,\n",
    "    'color_mapping': color_mapping,\n",
    "    'clarity_mapping': clarity_mapping\n",
    "}, 'encoders.pkl')\n",
    "joblib.dump(feature_columns, 'feature_columns.pkl')"
   ],
   "id": "88f9103dfd1e361b",
   "outputs": [
    {
     "data": {
      "text/plain": [
       "['feature_columns.pkl']"
      ]
     },
     "execution_count": 102,
     "metadata": {},
     "output_type": "execute_result"
    }
   ],
   "execution_count": 102
  },
  {
   "metadata": {},
   "cell_type": "markdown",
   "source": "## Загрузка, преобразование, тест данных",
   "id": "37acc1699333c9f5"
  },
  {
   "metadata": {
    "ExecuteTime": {
     "end_time": "2025-10-22T18:57:30.700919Z",
     "start_time": "2025-10-22T18:57:30.691899Z"
    }
   },
   "cell_type": "code",
   "source": [
    "df_test = pd.read_csv('diamonds_test.csv')\n",
    "print(f\"Размер тестовых данных: {df_test.shape}\")\n",
    "\n",
    "# Сохраняем id для submission\n",
    "test_ids = df_test['id'].copy()"
   ],
   "id": "b2d5cf9d9661f6f4",
   "outputs": [
    {
     "name": "stdout",
     "output_type": "stream",
     "text": [
      "Размер тестовых данных: (5379, 10)\n"
     ]
    }
   ],
   "execution_count": 103
  },
  {
   "metadata": {
    "ExecuteTime": {
     "end_time": "2025-10-22T18:57:30.719242Z",
     "start_time": "2025-10-22T18:57:30.712025Z"
    }
   },
   "cell_type": "code",
   "source": [
    "# Применяем те же преобразования, что и к обучающим данным\n",
    "df_test['cut_encoded'] = df_test['cut'].map(cut_mapping)\n",
    "df_test['color_encoded'] = df_test['color'].map(color_mapping)\n",
    "df_test['clarity_encoded'] = df_test['clarity'].map(clarity_mapping)\n",
    "\n",
    "# Создаем те же признаки\n",
    "df_test['volume'] = df_test['x'] * df_test['y'] * df_test['z']\n",
    "df_test['density'] = df_test['carat'] / (df_test['volume'] + 1e-8)\n",
    "df_test['table_ratio'] = df_test['table'] / df_test['depth']\n",
    "df_test['size_ratio'] = df_test['x'] / df_test['y']\n",
    "df_test['avg_dimension'] = (df_test['x'] + df_test['y'] + df_test['z']) / 3\n",
    "df_test['surface_area'] = 2 * (df_test['x']*df_test['y'] + df_test['x']*df_test['z'] + df_test['y']*df_test['z'])"
   ],
   "id": "66b0d8b39429dbe2",
   "outputs": [],
   "execution_count": 104
  },
  {
   "metadata": {
    "ExecuteTime": {
     "end_time": "2025-10-22T18:57:30.782087Z",
     "start_time": "2025-10-22T18:57:30.726846Z"
    }
   },
   "cell_type": "code",
   "source": [
    "# Подготавливаем признаки для тестовых данных\n",
    "X_test_final = df_test[feature_columns]\n",
    "\n",
    "# Масштабируем\n",
    "X_test_scaled = scaler.transform(X_test_final)\n",
    "\n",
    "# Предсказываем\n",
    "predictions = final_model.predict(X_test_scaled)\n",
    "\n",
    "print(f\"Статистика предсказаний:\")\n",
    "print(f\"Min: ${predictions.min():,.2f}\")\n",
    "print(f\"Max: ${predictions.max():,.2f}\")\n",
    "print(f\"Mean: ${predictions.mean():,.2f}\")\n",
    "print(f\"Median: ${np.median(predictions):,.2f}\")"
   ],
   "id": "8b725a4791248535",
   "outputs": [
    {
     "name": "stdout",
     "output_type": "stream",
     "text": [
      "Статистика предсказаний:\n",
      "Min: $354.91\n",
      "Max: $18,128.92\n",
      "Mean: $3,916.84\n",
      "Median: $2,440.00\n"
     ]
    }
   ],
   "execution_count": 105
  },
  {
   "cell_type": "markdown",
   "id": "cc17a31a",
   "metadata": {},
   "source": "# Сохранение результатов"
  },
  {
   "cell_type": "code",
   "id": "91215a79",
   "metadata": {
    "ExecuteTime": {
     "end_time": "2025-10-22T18:57:30.802509Z",
     "start_time": "2025-10-22T18:57:30.793231Z"
    }
   },
   "source": [
    "df_result = pd.DataFrame({'id': df_test['id'], 'price': predictions})\n",
    "df_result.to_csv('submission.csv', index=False)"
   ],
   "outputs": [],
   "execution_count": 106
  }
 ],
 "metadata": {
  "kernelspec": {
   "display_name": "ragbot-env",
   "language": "python",
   "name": "python3"
  },
  "language_info": {
   "codemirror_mode": {
    "name": "ipython",
    "version": 3
   },
   "file_extension": ".py",
   "mimetype": "text/x-python",
   "name": "python",
   "nbconvert_exporter": "python",
   "pygments_lexer": "ipython3",
   "version": "3.11.9"
  }
 },
 "nbformat": 4,
 "nbformat_minor": 5
}
