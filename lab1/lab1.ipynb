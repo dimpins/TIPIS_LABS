{
 "cells": [
  {
   "cell_type": "code",
   "id": "initial_id",
   "metadata": {
    "collapsed": true,
    "ExecuteTime": {
     "end_time": "2025-09-23T12:46:15.316024Z",
     "start_time": "2025-09-23T12:46:15.313909Z"
    }
   },
   "source": "import pandas as pd",
   "outputs": [],
   "execution_count": 2
  },
  {
   "metadata": {},
   "cell_type": "markdown",
   "source": "Загрузка данных и название столбцов (в adult.names)",
   "id": "2510aa0e60aec921"
  },
  {
   "metadata": {
    "ExecuteTime": {
     "end_time": "2025-09-23T12:46:17.309377Z",
     "start_time": "2025-09-23T12:46:17.262482Z"
    }
   },
   "cell_type": "code",
   "source": [
    "column_names = ['age', 'workclass', 'fnlwgt', 'education', 'education-num', 'marital-status', 'occupation', 'relationship', 'race', 'sex', 'capital-gain',\n",
    "'capital-loss', 'hours-per-week', 'native-country', 'salary']\n",
    "\n",
    "data_frame = pd.read_csv('data/adult.data', header=None, names=column_names, na_values='?', skipinitialspace=True)\n",
    "\n",
    "data_frame.head()\n"
   ],
   "id": "ae19b59a4c37aed1",
   "outputs": [
    {
     "data": {
      "text/plain": [
       "   age         workclass  fnlwgt  education  education-num  \\\n",
       "0   39         State-gov   77516  Bachelors             13   \n",
       "1   50  Self-emp-not-inc   83311  Bachelors             13   \n",
       "2   38           Private  215646    HS-grad              9   \n",
       "3   53           Private  234721       11th              7   \n",
       "4   28           Private  338409  Bachelors             13   \n",
       "\n",
       "       marital-status         occupation   relationship   race     sex  \\\n",
       "0       Never-married       Adm-clerical  Not-in-family  White    Male   \n",
       "1  Married-civ-spouse    Exec-managerial        Husband  White    Male   \n",
       "2            Divorced  Handlers-cleaners  Not-in-family  White    Male   \n",
       "3  Married-civ-spouse  Handlers-cleaners        Husband  Black    Male   \n",
       "4  Married-civ-spouse     Prof-specialty           Wife  Black  Female   \n",
       "\n",
       "   capital-gain  capital-loss  hours-per-week native-country salary  \n",
       "0          2174             0              40  United-States  <=50K  \n",
       "1             0             0              13  United-States  <=50K  \n",
       "2             0             0              40  United-States  <=50K  \n",
       "3             0             0              40  United-States  <=50K  \n",
       "4             0             0              40           Cuba  <=50K  "
      ],
      "text/html": [
       "<div>\n",
       "<style scoped>\n",
       "    .dataframe tbody tr th:only-of-type {\n",
       "        vertical-align: middle;\n",
       "    }\n",
       "\n",
       "    .dataframe tbody tr th {\n",
       "        vertical-align: top;\n",
       "    }\n",
       "\n",
       "    .dataframe thead th {\n",
       "        text-align: right;\n",
       "    }\n",
       "</style>\n",
       "<table border=\"1\" class=\"dataframe\">\n",
       "  <thead>\n",
       "    <tr style=\"text-align: right;\">\n",
       "      <th></th>\n",
       "      <th>age</th>\n",
       "      <th>workclass</th>\n",
       "      <th>fnlwgt</th>\n",
       "      <th>education</th>\n",
       "      <th>education-num</th>\n",
       "      <th>marital-status</th>\n",
       "      <th>occupation</th>\n",
       "      <th>relationship</th>\n",
       "      <th>race</th>\n",
       "      <th>sex</th>\n",
       "      <th>capital-gain</th>\n",
       "      <th>capital-loss</th>\n",
       "      <th>hours-per-week</th>\n",
       "      <th>native-country</th>\n",
       "      <th>salary</th>\n",
       "    </tr>\n",
       "  </thead>\n",
       "  <tbody>\n",
       "    <tr>\n",
       "      <th>0</th>\n",
       "      <td>39</td>\n",
       "      <td>State-gov</td>\n",
       "      <td>77516</td>\n",
       "      <td>Bachelors</td>\n",
       "      <td>13</td>\n",
       "      <td>Never-married</td>\n",
       "      <td>Adm-clerical</td>\n",
       "      <td>Not-in-family</td>\n",
       "      <td>White</td>\n",
       "      <td>Male</td>\n",
       "      <td>2174</td>\n",
       "      <td>0</td>\n",
       "      <td>40</td>\n",
       "      <td>United-States</td>\n",
       "      <td>&lt;=50K</td>\n",
       "    </tr>\n",
       "    <tr>\n",
       "      <th>1</th>\n",
       "      <td>50</td>\n",
       "      <td>Self-emp-not-inc</td>\n",
       "      <td>83311</td>\n",
       "      <td>Bachelors</td>\n",
       "      <td>13</td>\n",
       "      <td>Married-civ-spouse</td>\n",
       "      <td>Exec-managerial</td>\n",
       "      <td>Husband</td>\n",
       "      <td>White</td>\n",
       "      <td>Male</td>\n",
       "      <td>0</td>\n",
       "      <td>0</td>\n",
       "      <td>13</td>\n",
       "      <td>United-States</td>\n",
       "      <td>&lt;=50K</td>\n",
       "    </tr>\n",
       "    <tr>\n",
       "      <th>2</th>\n",
       "      <td>38</td>\n",
       "      <td>Private</td>\n",
       "      <td>215646</td>\n",
       "      <td>HS-grad</td>\n",
       "      <td>9</td>\n",
       "      <td>Divorced</td>\n",
       "      <td>Handlers-cleaners</td>\n",
       "      <td>Not-in-family</td>\n",
       "      <td>White</td>\n",
       "      <td>Male</td>\n",
       "      <td>0</td>\n",
       "      <td>0</td>\n",
       "      <td>40</td>\n",
       "      <td>United-States</td>\n",
       "      <td>&lt;=50K</td>\n",
       "    </tr>\n",
       "    <tr>\n",
       "      <th>3</th>\n",
       "      <td>53</td>\n",
       "      <td>Private</td>\n",
       "      <td>234721</td>\n",
       "      <td>11th</td>\n",
       "      <td>7</td>\n",
       "      <td>Married-civ-spouse</td>\n",
       "      <td>Handlers-cleaners</td>\n",
       "      <td>Husband</td>\n",
       "      <td>Black</td>\n",
       "      <td>Male</td>\n",
       "      <td>0</td>\n",
       "      <td>0</td>\n",
       "      <td>40</td>\n",
       "      <td>United-States</td>\n",
       "      <td>&lt;=50K</td>\n",
       "    </tr>\n",
       "    <tr>\n",
       "      <th>4</th>\n",
       "      <td>28</td>\n",
       "      <td>Private</td>\n",
       "      <td>338409</td>\n",
       "      <td>Bachelors</td>\n",
       "      <td>13</td>\n",
       "      <td>Married-civ-spouse</td>\n",
       "      <td>Prof-specialty</td>\n",
       "      <td>Wife</td>\n",
       "      <td>Black</td>\n",
       "      <td>Female</td>\n",
       "      <td>0</td>\n",
       "      <td>0</td>\n",
       "      <td>40</td>\n",
       "      <td>Cuba</td>\n",
       "      <td>&lt;=50K</td>\n",
       "    </tr>\n",
       "  </tbody>\n",
       "</table>\n",
       "</div>"
      ]
     },
     "execution_count": 3,
     "metadata": {},
     "output_type": "execute_result"
    }
   ],
   "execution_count": 3
  },
  {
   "metadata": {},
   "cell_type": "markdown",
   "source": "Ответы на вопросы:",
   "id": "d7324f7cf1e6207b"
  },
  {
   "metadata": {},
   "cell_type": "markdown",
   "source": "1. Число столбцов в наборе данных",
   "id": "b13a2d67363f6cb2"
  },
  {
   "metadata": {
    "ExecuteTime": {
     "end_time": "2025-09-23T12:46:19.242546Z",
     "start_time": "2025-09-23T12:46:19.240061Z"
    }
   },
   "cell_type": "code",
   "source": "print(len(data_frame.columns))",
   "id": "abf3737dd54fe1bc",
   "outputs": [
    {
     "name": "stdout",
     "output_type": "stream",
     "text": [
      "15\n"
     ]
    }
   ],
   "execution_count": 4
  },
  {
   "metadata": {},
   "cell_type": "markdown",
   "source": "2. Есть ли пропуски в данных? Если есть, то в каких столбцах",
   "id": "60f14bcb4e719fcb"
  },
  {
   "metadata": {
    "ExecuteTime": {
     "end_time": "2025-09-23T12:46:20.542132Z",
     "start_time": "2025-09-23T12:46:20.531028Z"
    }
   },
   "cell_type": "code",
   "source": [
    "miss_data = data_frame.isnull().sum()\n",
    "\n",
    "if miss_data.sum()>0:\n",
    "    print('Пропуски в следующий столбцах:')\n",
    "    for col_name in miss_data.index:\n",
    "        if miss_data[col_name] > 0:\n",
    "            print('Название столбца: ', col_name, '-- Пропусков: ', miss_data[col_name])\n",
    "else:\n",
    "    print(\"Нет пропусков\")"
   ],
   "id": "211a8ed341df7be",
   "outputs": [
    {
     "name": "stdout",
     "output_type": "stream",
     "text": [
      "Пропуски в следующий столбцах:\n",
      "Название столбца:  workclass -- Пропусков:  1836\n",
      "Название столбца:  occupation -- Пропусков:  1843\n",
      "Название столбца:  native-country -- Пропусков:  583\n"
     ]
    }
   ],
   "execution_count": 5
  },
  {
   "metadata": {},
   "cell_type": "markdown",
   "source": "3. Кол-во уникальных значений в столбце race",
   "id": "49562866fc5990b8"
  },
  {
   "metadata": {
    "ExecuteTime": {
     "end_time": "2025-09-23T12:46:22.427287Z",
     "start_time": "2025-09-23T12:46:22.421898Z"
    }
   },
   "cell_type": "code",
   "source": [
    "print(data_frame['race'].nunique())\n",
    "print(data_frame['race'].unique())"
   ],
   "id": "5550058f6e7289d3",
   "outputs": [
    {
     "name": "stdout",
     "output_type": "stream",
     "text": [
      "5\n",
      "['White' 'Black' 'Asian-Pac-Islander' 'Amer-Indian-Eskimo' 'Other']\n"
     ]
    }
   ],
   "execution_count": 6
  },
  {
   "metadata": {},
   "cell_type": "markdown",
   "source": "4. Медиана hours-per-week",
   "id": "c888f69bdab6244d"
  },
  {
   "metadata": {
    "ExecuteTime": {
     "end_time": "2025-09-23T12:46:24.428382Z",
     "start_time": "2025-09-23T12:46:24.425017Z"
    }
   },
   "cell_type": "code",
   "source": "print(data_frame['hours-per-week'].median())",
   "id": "5598cacff4d74d51",
   "outputs": [
    {
     "name": "stdout",
     "output_type": "stream",
     "text": [
      "40.0\n"
     ]
    }
   ],
   "execution_count": 7
  },
  {
   "metadata": {},
   "cell_type": "markdown",
   "source": "5. Кого больше - женщин или мужчин с ЗП >50K?",
   "id": "7349ce41666d11da"
  },
  {
   "metadata": {
    "ExecuteTime": {
     "end_time": "2025-09-23T12:46:25.913271Z",
     "start_time": "2025-09-23T12:46:25.906983Z"
    }
   },
   "cell_type": "code",
   "source": [
    "high_salary = data_frame[data_frame['salary'] == '>50K']\n",
    "\n",
    "count_sex = high_salary['sex'].value_counts()\n",
    "print('Мужчин' if count_sex['Male'] > count_sex['Female'] else 'Женщин')\n"
   ],
   "id": "56b6e49576f96bb5",
   "outputs": [
    {
     "name": "stdout",
     "output_type": "stream",
     "text": [
      "Мужчин\n"
     ]
    }
   ],
   "execution_count": 8
  },
  {
   "metadata": {},
   "cell_type": "markdown",
   "source": "6. Заполните пропущенные данные в отдельных столбцах наиболее встречаемыми значениями. Как еще можно было бы заполнить пропущенные данные?",
   "id": "bfd5468aad36de03"
  },
  {
   "metadata": {
    "ExecuteTime": {
     "end_time": "2025-09-23T12:46:27.756114Z",
     "start_time": "2025-09-23T12:46:27.744716Z"
    }
   },
   "cell_type": "code",
   "source": [
    "data_frame_copy = data_frame.copy()\n",
    "\n",
    "for col_name in miss_data.index:\n",
    "    if miss_data[col_name] > 0:\n",
    "        most_use = data_frame_copy[col_name].mode()[0]\n",
    "        data_frame_copy[col_name] = data_frame_copy[col_name].fillna(most_use)\n"
   ],
   "id": "7741dd968a6bcedb",
   "outputs": [],
   "execution_count": 9
  },
  {
   "metadata": {},
   "cell_type": "markdown",
   "source": "Проверим что пропусков нет:",
   "id": "ed607968a84e2b88"
  },
  {
   "metadata": {
    "ExecuteTime": {
     "end_time": "2025-09-23T12:46:29.631621Z",
     "start_time": "2025-09-23T12:46:29.620793Z"
    }
   },
   "cell_type": "code",
   "source": [
    "miss_data_check = data_frame_copy.isnull().sum()\n",
    "\n",
    "if miss_data_check.sum()>0:\n",
    "    print('Пропуски в следующий столбцах:')\n",
    "    for col_name in miss_data_check.index:\n",
    "        if miss_data_check[col_name] > 0:\n",
    "            print('Название столбца: ', col_name, '-- Пропусков: ', miss_data_check[col_name])\n",
    "else:\n",
    "    print(\"Нет пропусков\")"
   ],
   "id": "6f6659ec5c7775fb",
   "outputs": [
    {
     "name": "stdout",
     "output_type": "stream",
     "text": [
      "Нет пропусков\n"
     ]
    }
   ],
   "execution_count": 10
  },
  {
   "metadata": {},
   "cell_type": "markdown",
   "source": "ОТВЕТЫ:",
   "id": "a980783e86b631a9"
  },
  {
   "metadata": {},
   "cell_type": "markdown",
   "source": [
    "1. 15\n",
    "2. Пропуски в следующий столбцах:\n",
    "Название столбца:  workclass -- Пропусков:  1836\n",
    "Название столбца:  occupation -- Пропусков:  1843\n",
    "Название столбца:  native-country -- Пропусков:  583\n",
    "3. 5\n",
    "['White' 'Black' 'Asian-Pac-Islander' 'Amer-Indian-Eskimo' 'Other']\n",
    "4. 40.0\n",
    "5. Мужчин\n",
    "6. В зависимости от типа данных. Например пропуски в workclass можно было заполнить \"Назначить\" или \"Проверить\" т.к. более используюмую запись не совсем корректно присваивать ко всем пропускам. Occupation - так же как с workclass. Native-country - так же. Это важно, если например нужно понять из какой страны больше зарабатывают, или какое занятие приносит больше дохода. Неверно указанные данные искажают картину, так что лучше эти пропуски заполнять так, чтобы они не учитывались при подобных вычислениях"
   ],
   "id": "b263e60371dc1442"
  }
 ],
 "metadata": {
  "kernelspec": {
   "display_name": "Python 3",
   "language": "python",
   "name": "python3"
  },
  "language_info": {
   "codemirror_mode": {
    "name": "ipython",
    "version": 2
   },
   "file_extension": ".py",
   "mimetype": "text/x-python",
   "name": "python",
   "nbconvert_exporter": "python",
   "pygments_lexer": "ipython2",
   "version": "2.7.6"
  }
 },
 "nbformat": 4,
 "nbformat_minor": 5
}
